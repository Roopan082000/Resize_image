{
  "nbformat": 4,
  "nbformat_minor": 0,
  "metadata": {
    "colab": {
      "provenance": [],
      "authorship_tag": "ABX9TyMpbTsHHkvZe5syuqaTAnW4",
      "include_colab_link": true
    },
    "kernelspec": {
      "name": "python3",
      "display_name": "Python 3"
    },
    "language_info": {
      "name": "python"
    }
  },
  "cells": [
    {
      "cell_type": "markdown",
      "metadata": {
        "id": "view-in-github",
        "colab_type": "text"
      },
      "source": [
        "<a href=\"https://colab.research.google.com/github/Roopan082000/Resize_image/blob/main/Resize_image.ipynb\" target=\"_parent\"><img src=\"https://colab.research.google.com/assets/colab-badge.svg\" alt=\"Open In Colab\"/></a>"
      ]
    },
    {
      "cell_type": "code",
      "execution_count": 1,
      "metadata": {
        "colab": {
          "base_uri": "https://localhost:8080/"
        },
        "id": "t4I1P2wzVlpi",
        "outputId": "6fc069ac-9172-4744-d8d6-82caa1c68b95"
      },
      "outputs": [
        {
          "output_type": "stream",
          "name": "stdout",
          "text": [
            "Requirement already satisfied: opencv-python-headless in /usr/local/lib/python3.11/dist-packages (4.11.0.86)\n",
            "Requirement already satisfied: numpy>=1.21.2 in /usr/local/lib/python3.11/dist-packages (from opencv-python-headless) (2.0.2)\n"
          ]
        }
      ],
      "source": [
        "!pip install opencv-python-headless"
      ]
    },
    {
      "cell_type": "code",
      "source": [
        "from google.colab import files\n",
        "\n",
        "# Upload a ZIP file (like images.zip) containing 100 images\n",
        "uploaded = files.upload()"
      ],
      "metadata": {
        "id": "Azp0_OwlV6tG"
      },
      "execution_count": null,
      "outputs": []
    },
    {
      "cell_type": "code",
      "source": [
        "import zipfile\n",
        "import os\n",
        "\n",
        "# Replace with the actual uploaded ZIP file name\n",
        "zip_file = 'test.zip'\n",
        "\n",
        "# Extract into a folder called 'original_images'\n",
        "with zipfile.ZipFile(zip_file, 'r') as zip_ref:\n",
        "    zip_ref.extractall('original_images')\n",
        "\n",
        "print(\"Extracted images:\")\n",
        "print(os.listdir('original_images')[:5])  # Show first 5 images"
      ],
      "metadata": {
        "colab": {
          "base_uri": "https://localhost:8080/"
        },
        "id": "BnveEZ0tV-Zr",
        "outputId": "b1cf789d-ee92-4962-f2c0-4654aa5ebe0f"
      },
      "execution_count": 4,
      "outputs": [
        {
          "output_type": "stream",
          "name": "stdout",
          "text": [
            "Extracted images:\n",
            "['image_046.png', 'image_011.png', 'image_015.png', 'image_042.png', 'image_068.png']\n"
          ]
        }
      ]
    },
    {
      "cell_type": "code",
      "source": [
        "import cv2\n",
        "\n",
        "input_folder = 'original_images'\n",
        "output_folder = 'resized_images'\n",
        "\n",
        "# Create output directory\n",
        "os.makedirs(output_folder, exist_ok=True)\n",
        "\n",
        "# Resize each image to 50% of its original size\n",
        "for img_name in os.listdir(input_folder):\n",
        "    if img_name.lower().endswith(('.png', '.jpg', '.jpeg', '.bmp')):\n",
        "        input_path = os.path.join(input_folder, img_name)\n",
        "        img = cv2.imread(input_path)\n",
        "\n",
        "        # Resize to 50%\n",
        "        resized_img = cv2.resize(img, (0, 0), fx=0.5, fy=0.5)\n",
        "\n",
        "        output_path = os.path.join(output_folder, img_name)\n",
        "        cv2.imwrite(output_path, resized_img)\n",
        "\n",
        "print(\"✅ All images resized to 50% and saved in 'resized_images' folder.\")"
      ],
      "metadata": {
        "colab": {
          "base_uri": "https://localhost:8080/"
        },
        "id": "erzE_3bcWCsn",
        "outputId": "ed10de80-d5a0-4743-afd1-9c422a0a826b"
      },
      "execution_count": 5,
      "outputs": [
        {
          "output_type": "stream",
          "name": "stdout",
          "text": [
            "✅ All images resized to 50% and saved in 'resized_images' folder.\n"
          ]
        }
      ]
    },
    {
      "cell_type": "code",
      "source": [
        "import shutil\n",
        "\n",
        "# Zip the resized images folder\n",
        "shutil.make_archive('resized_images', 'zip', output_folder)\n",
        "\n",
        "# Download the zipped file\n",
        "files.download('resized_images.zip')"
      ],
      "metadata": {
        "id": "6ge_XQMdWGV_"
      },
      "execution_count": null,
      "outputs": []
    }
  ]
}